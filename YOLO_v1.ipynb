{
  "cells": [
    {
      "cell_type": "code",
      "execution_count": null,
      "metadata": {
        "id": "SIvggdSGA4so"
      },
      "outputs": [],
      "source": [
        "# Importing Requried libraries\n",
        "import torch\n",
        "import torch.nn as nn\n",
        "import torchvision.transforms as transforms\n",
        "import torchvision.transforms.functional as FT\n",
        "import numpy as np\n",
        "import matplotlib.pyplot as plt\n",
        "import matplotlib.patches as patches\n",
        "import warnings\n",
        "warnings.filterwarnings(\"ignore\")\n",
        "\n",
        "from tqdm.notebook import tqdm\n",
        "from torch.utils.data import DataLoader\n",
        "\n",
        "from dataset import VOCDataset\n",
        "from utils import non_max_suppression,cellboxes_to_boxes"
      ]
    },
    {
      "cell_type": "code",
      "execution_count": 2,
      "metadata": {
        "id": "cvubI-T7CBK3"
      },
      "outputs": [],
      "source": [
        "#YOLO-V1 Neural Network\n",
        "class Yolov1(nn.Module):\n",
        "    def __init__(self, in_channels=3, split_size=7, num_boxes=2, num_classes=20):\n",
        "        super(Yolov1, self).__init__()\n",
        "        self.linear_relu_stack = nn.Sequential(\n",
        "            # Block 1\n",
        "            nn.Conv2d(in_channels, 64, kernel_size=7, stride=2, padding=3),\n",
        "            # nn.BatchNorm2d(64),\n",
        "            nn.LeakyReLU(0.1),\n",
        "            nn.MaxPool2d(kernel_size=(2, 2), stride=(2,2)),\n",
        "\n",
        "            # Block 2\n",
        "            nn.Conv2d(64, 192, kernel_size=3, stride=1, padding=1),\n",
        "            # nn.BatchNorm2d(192),\n",
        "            nn.LeakyReLU(0.1),\n",
        "            nn.MaxPool2d(kernel_size=(2, 2), stride=(2,2)),\n",
        "\n",
        "            # Block 3\n",
        "            nn.Conv2d(192, 128, kernel_size=1),\n",
        "            # nn.BatchNorm2d(128),\n",
        "            nn.LeakyReLU(0.1),\n",
        "            nn.Conv2d(128, 256, kernel_size=3, padding=1),\n",
        "            # nn.BatchNorm2d(256),\n",
        "            nn.LeakyReLU(0.1),\n",
        "            nn.Conv2d(256, 256, kernel_size=1),\n",
        "            # nn.BatchNorm2d(256),\n",
        "            nn.LeakyReLU(0.1),\n",
        "            nn.Conv2d(256, 512, kernel_size=3, padding=1),\n",
        "            # nn.BatchNorm2d(512),\n",
        "            nn.LeakyReLU(0.1),\n",
        "            nn.MaxPool2d(kernel_size=(2, 2), stride=(2,2)),\n",
        "\n",
        "            # Block 4\n",
        "            nn.Conv2d(512, 256, kernel_size=1),\n",
        "            # nn.BatchNorm2d(256),\n",
        "            nn.LeakyReLU(0.1),\n",
        "            nn.Conv2d(256, 512, kernel_size=3, padding=1),\n",
        "            # nn.BatchNorm2d(512),\n",
        "            nn.LeakyReLU(0.1),\n",
        "            nn.Conv2d(512, 256, kernel_size=1),\n",
        "            # nn.BatchNorm2d(256),\n",
        "            nn.LeakyReLU(0.1),\n",
        "            nn.Conv2d(256, 512, kernel_size=3, padding=1),\n",
        "            # nn.BatchNorm2d(512),\n",
        "            nn.LeakyReLU(0.1),\n",
        "            nn.Conv2d(512, 256, kernel_size=1),\n",
        "            # nn.BatchNorm2d(256),\n",
        "            nn.LeakyReLU(0.1),\n",
        "            nn.Conv2d(256, 512, kernel_size=3, padding=1),\n",
        "            # nn.BatchNorm2d(512),\n",
        "            nn.LeakyReLU(0.1),\n",
        "            nn.Conv2d(512, 256, kernel_size=1),\n",
        "            # nn.BatchNorm2d(256),\n",
        "            nn.LeakyReLU(0.1),\n",
        "            nn.Conv2d(256, 512, kernel_size=3, padding=1),\n",
        "            # nn.BatchNorm2d(512),\n",
        "            nn.LeakyReLU(0.1),\n",
        "\n",
        "            nn.Conv2d(512, 512, kernel_size=1),\n",
        "            # nn.BatchNorm2d(512),\n",
        "            nn.LeakyReLU(0.1),\n",
        "            nn.Conv2d(512, 1024, kernel_size=3, padding=1),\n",
        "            # nn.BatchNorm2d(1024),\n",
        "            nn.LeakyReLU(0.1),\n",
        "            nn.MaxPool2d(kernel_size=(2, 2), stride=(2,2)),\n",
        "\n",
        "            # Block 5\n",
        "            nn.Conv2d(1024, 512, kernel_size=1),\n",
        "            # nn.BatchNorm2d(512),\n",
        "            nn.LeakyReLU(0.1),\n",
        "            nn.Conv2d(512, 1024, kernel_size=3, padding=1),\n",
        "            # nn.BatchNorm2d(1024),\n",
        "            nn.LeakyReLU(0.1),\n",
        "            nn.Conv2d(1024, 512, kernel_size=1),\n",
        "            # nn.BatchNorm2d(512),\n",
        "            nn.LeakyReLU(0.1),\n",
        "            nn.Conv2d(512, 1024, kernel_size=3, padding=1),\n",
        "            # nn.BatchNorm2d(1024),\n",
        "            nn.LeakyReLU(0.1),\n",
        "\n",
        "            nn.Conv2d(1024, 1024, kernel_size=3, padding=1),\n",
        "            # nn.BatchNorm2d(1024),\n",
        "            nn.LeakyReLU(0.1),\n",
        "            nn.Conv2d(1024, 1024, kernel_size=3, stride=2, padding=1),\n",
        "            # nn.BatchNorm2d(1024),\n",
        "            nn.LeakyReLU(0.1),\n",
        "\n",
        "            # Block 6\n",
        "            nn.Conv2d(1024, 1024, kernel_size=3, padding=1),\n",
        "            # nn.BatchNorm2d(1024),\n",
        "            nn.LeakyReLU(0.1),\n",
        "            nn.Conv2d(1024, 1024, kernel_size=3, padding=1),\n",
        "            # nn.BatchNorm2d(1024),\n",
        "            nn.LeakyReLU(0.1),\n",
        "\n",
        "            # Block 7\n",
        "            nn.Flatten(),         #flatten into 1D tensor\n",
        "            nn.Linear(1024 * split_size**2, 400),\n",
        "            nn.Dropout(0.0),\n",
        "            nn.LeakyReLU(0.1),\n",
        "            nn.Linear(400, split_size**2 * (num_classes + num_boxes*5))   #a linear layer which predicts the class probabilities and bounding boxes for each grid cell.\n",
        "        )\n",
        "      \n",
        "    def forward(self, x):\n",
        "        logits = self.linear_relu_stack(x)\n",
        "        return logits"
      ]
    },
    {
      "cell_type": "code",
      "execution_count": null,
      "metadata": {
        "id": "sn_1WFgpCMCf"
      },
      "outputs": [],
      "source": [
        "mse = nn.MSELoss(reduction='sum') #mean squared error loss function"
      ]
    },
    {
      "cell_type": "code",
      "execution_count": null,
      "metadata": {},
      "outputs": [],
      "source": [
        "# Loss: Coordinates of boxes\n",
        "def loss_coord(pred, target, exists_box, better_box):\n",
        "    pred = exists_box * (better_box * pred[..., 26:28] + (1-better_box) * pred[..., 21:23])\n",
        "    target = exists_box * target[..., 21:23]\n",
        "    return mse(pred, target)"
      ]
    },
    {
      "cell_type": "code",
      "execution_count": null,
      "metadata": {},
      "outputs": [],
      "source": [
        "# Loss: Size of boxes\n",
        "def loss_size(pred, target, exists_box, better_box):\n",
        "    pred = exists_box * (better_box * pred[..., 28:30] + (1-better_box) * pred[..., 23:25])\n",
        "    target = exists_box * target[..., 23:25]\n",
        "    pred = torch.sign(pred) * torch.sqrt(torch.abs(pred) + 1e-6)\n",
        "    target = torch.sqrt(target)\n",
        "    return mse(pred, target)"
      ]
    }
  ],
  "metadata": {
    "colab": {
      "provenance": []
    },
    "kernelspec": {
      "display_name": "Python 3",
      "name": "python3"
    },
    "language_info": {
      "name": "python"
    }
  },
  "nbformat": 4,
  "nbformat_minor": 0
}
